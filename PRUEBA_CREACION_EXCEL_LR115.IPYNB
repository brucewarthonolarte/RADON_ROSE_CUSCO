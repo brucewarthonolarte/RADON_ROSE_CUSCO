{
 "cells": [
  {
   "cell_type": "markdown",
   "metadata": {},
   "source": [
    "CREAMOS LOS EXCEL A PARTIR DEL DOCUMENTO .TRK"
   ]
  },
  {
   "cell_type": "code",
   "execution_count": 3,
   "metadata": {},
   "outputs": [
    {
     "name": "stdout",
     "output_type": "stream",
     "text": [
      "Conversión completa.\n"
     ]
    }
   ],
   "source": [
    "import pandas as pd\n",
    "import os\n",
    "\n",
    "# Ruta de la carpeta de entrada\n",
    "input_folder = r'C:\\Users\\Bruce\\Desktop\\ARTICULOS\\ARTICULO PUCP\\RADON\\Lectura-RR-Cusco\\TC\\TXT\\PERIODO_1'\n",
    "\n",
    "# Ruta de la carpeta de salida para los archivos Excel\n",
    "output_folder = r'C:\\Users\\Bruce\\Desktop\\ARTICULOS\\ARTICULO PUCP\\RADON\\LIMPIEZA_CUSCO\\TC\\PERIODO_1\\EXCEL'\n",
    "\n",
    "# Verificar si la carpeta de salida existe, si no, crearla\n",
    "if not os.path.exists(output_folder):\n",
    "    os.makedirs(output_folder)\n",
    "\n",
    "# Listar archivos en la carpeta de entrada con extensión .trk\n",
    "trk_files = [f for f in os.listdir(input_folder) if f.endswith('.trk')]\n",
    "\n",
    "# Procesar cada archivo .trk\n",
    "for trk_file in trk_files:\n",
    "    # Construir la ruta completa de entrada\n",
    "    input_path = os.path.join(input_folder, trk_file)\n",
    "    \n",
    "    # Leer el archivo .trk con pandas (ajusta según el formato real)\n",
    "    # Puedes usar pd.read_csv() o pd.read_excel() según el formato de tus datos\n",
    "    df = pd.read_csv(input_path, sep='\\t', skiprows=3)  # Ajusta el separador y el número de filas a omitir según tus datos\n",
    "    \n",
    "    # Construir la ruta completa de salida\n",
    "    output_path = os.path.join(output_folder, os.path.splitext(trk_file)[0] + '.xlsx')\n",
    "    \n",
    "    # Guardar el DataFrame como archivo Excel\n",
    "    df.to_excel(output_path, index=False)\n",
    "\n",
    "print(\"Conversión completa.\")\n"
   ]
  },
  {
   "cell_type": "code",
   "execution_count": 10,
   "metadata": {},
   "outputs": [
    {
     "name": "stderr",
     "output_type": "stream",
     "text": [
      "C:\\Users\\Bruce\\AppData\\Local\\Temp\\ipykernel_24148\\2041984555.py:29: FutureWarning: Could not cast to float64, falling back to object. This behavior is deprecated. In a future version, when a dtype is passed to 'DataFrame', either all columns will be cast to that dtype, or a TypeError will be raised.\n",
      "  df = pd.DataFrame([line.split('\\t') for line in lines], dtype='float64')\n"
     ]
    },
    {
     "ename": "PermissionError",
     "evalue": "[Errno 13] Permission denied: 'C:\\\\Users\\\\Bruce\\\\Desktop\\\\ARTICULOS\\\\ARTICULO PUCP\\\\RADON\\\\LIMPIEZA_CUSCO\\\\TC\\\\PERIODO_1\\\\EXCEL\\\\1_89.xlsx'",
     "output_type": "error",
     "traceback": [
      "\u001b[1;31m---------------------------------------------------------------------------\u001b[0m",
      "\u001b[1;31mPermissionError\u001b[0m                           Traceback (most recent call last)",
      "\u001b[1;32mc:\\Users\\Bruce\\Desktop\\PROYECTOS VISUAL\\RADON\\PRUEBA_CREACION_EXCEL_LR115.IPYNB Celda 3\u001b[0m line \u001b[0;36m<cell line: 19>\u001b[1;34m()\u001b[0m\n\u001b[0;32m     <a href='vscode-notebook-cell:/c%3A/Users/Bruce/Desktop/PROYECTOS%20VISUAL/RADON/PRUEBA_CREACION_EXCEL_LR115.IPYNB#W2sZmlsZQ%3D%3D?line=31'>32</a>\u001b[0m     output_path \u001b[39m=\u001b[39m os\u001b[39m.\u001b[39mpath\u001b[39m.\u001b[39mjoin(output_folder, os\u001b[39m.\u001b[39mpath\u001b[39m.\u001b[39msplitext(trk_file)[\u001b[39m0\u001b[39m] \u001b[39m+\u001b[39m \u001b[39m'\u001b[39m\u001b[39m.xlsx\u001b[39m\u001b[39m'\u001b[39m)\n\u001b[0;32m     <a href='vscode-notebook-cell:/c%3A/Users/Bruce/Desktop/PROYECTOS%20VISUAL/RADON/PRUEBA_CREACION_EXCEL_LR115.IPYNB#W2sZmlsZQ%3D%3D?line=33'>34</a>\u001b[0m     \u001b[39m# Guardar el DataFrame como archivo Excel con formato numérico\u001b[39;00m\n\u001b[1;32m---> <a href='vscode-notebook-cell:/c%3A/Users/Bruce/Desktop/PROYECTOS%20VISUAL/RADON/PRUEBA_CREACION_EXCEL_LR115.IPYNB#W2sZmlsZQ%3D%3D?line=34'>35</a>\u001b[0m     df\u001b[39m.\u001b[39;49mto_excel(output_path, index\u001b[39m=\u001b[39;49m\u001b[39mFalse\u001b[39;49;00m, float_format\u001b[39m=\u001b[39;49m\u001b[39m'\u001b[39;49m\u001b[39m%.6f\u001b[39;49;00m\u001b[39m'\u001b[39;49m)\n\u001b[0;32m     <a href='vscode-notebook-cell:/c%3A/Users/Bruce/Desktop/PROYECTOS%20VISUAL/RADON/PRUEBA_CREACION_EXCEL_LR115.IPYNB#W2sZmlsZQ%3D%3D?line=36'>37</a>\u001b[0m \u001b[39mprint\u001b[39m(\u001b[39m\"\u001b[39m\u001b[39mConversión completa.\u001b[39m\u001b[39m\"\u001b[39m)\n",
      "File \u001b[1;32mc:\\Users\\Bruce\\AppData\\Local\\Programs\\Python\\Python310\\lib\\site-packages\\pandas\\core\\generic.py:2345\u001b[0m, in \u001b[0;36mNDFrame.to_excel\u001b[1;34m(self, excel_writer, sheet_name, na_rep, float_format, columns, header, index, index_label, startrow, startcol, engine, merge_cells, encoding, inf_rep, verbose, freeze_panes, storage_options)\u001b[0m\n\u001b[0;32m   2332\u001b[0m \u001b[39mfrom\u001b[39;00m \u001b[39mpandas\u001b[39;00m\u001b[39m.\u001b[39;00m\u001b[39mio\u001b[39;00m\u001b[39m.\u001b[39;00m\u001b[39mformats\u001b[39;00m\u001b[39m.\u001b[39;00m\u001b[39mexcel\u001b[39;00m \u001b[39mimport\u001b[39;00m ExcelFormatter\n\u001b[0;32m   2334\u001b[0m formatter \u001b[39m=\u001b[39m ExcelFormatter(\n\u001b[0;32m   2335\u001b[0m     df,\n\u001b[0;32m   2336\u001b[0m     na_rep\u001b[39m=\u001b[39mna_rep,\n\u001b[1;32m   (...)\u001b[0m\n\u001b[0;32m   2343\u001b[0m     inf_rep\u001b[39m=\u001b[39minf_rep,\n\u001b[0;32m   2344\u001b[0m )\n\u001b[1;32m-> 2345\u001b[0m formatter\u001b[39m.\u001b[39;49mwrite(\n\u001b[0;32m   2346\u001b[0m     excel_writer,\n\u001b[0;32m   2347\u001b[0m     sheet_name\u001b[39m=\u001b[39;49msheet_name,\n\u001b[0;32m   2348\u001b[0m     startrow\u001b[39m=\u001b[39;49mstartrow,\n\u001b[0;32m   2349\u001b[0m     startcol\u001b[39m=\u001b[39;49mstartcol,\n\u001b[0;32m   2350\u001b[0m     freeze_panes\u001b[39m=\u001b[39;49mfreeze_panes,\n\u001b[0;32m   2351\u001b[0m     engine\u001b[39m=\u001b[39;49mengine,\n\u001b[0;32m   2352\u001b[0m     storage_options\u001b[39m=\u001b[39;49mstorage_options,\n\u001b[0;32m   2353\u001b[0m )\n",
      "File \u001b[1;32mc:\\Users\\Bruce\\AppData\\Local\\Programs\\Python\\Python310\\lib\\site-packages\\pandas\\io\\formats\\excel.py:888\u001b[0m, in \u001b[0;36mExcelFormatter.write\u001b[1;34m(self, writer, sheet_name, startrow, startcol, freeze_panes, engine, storage_options)\u001b[0m\n\u001b[0;32m    884\u001b[0m     need_save \u001b[39m=\u001b[39m \u001b[39mFalse\u001b[39;00m\n\u001b[0;32m    885\u001b[0m \u001b[39melse\u001b[39;00m:\n\u001b[0;32m    886\u001b[0m     \u001b[39m# error: Cannot instantiate abstract class 'ExcelWriter' with abstract\u001b[39;00m\n\u001b[0;32m    887\u001b[0m     \u001b[39m# attributes 'engine', 'save', 'supported_extensions' and 'write_cells'\u001b[39;00m\n\u001b[1;32m--> 888\u001b[0m     writer \u001b[39m=\u001b[39m ExcelWriter(  \u001b[39m# type: ignore[abstract]\u001b[39;49;00m\n\u001b[0;32m    889\u001b[0m         writer, engine\u001b[39m=\u001b[39;49mengine, storage_options\u001b[39m=\u001b[39;49mstorage_options\n\u001b[0;32m    890\u001b[0m     )\n\u001b[0;32m    891\u001b[0m     need_save \u001b[39m=\u001b[39m \u001b[39mTrue\u001b[39;00m\n\u001b[0;32m    893\u001b[0m \u001b[39mtry\u001b[39;00m:\n",
      "File \u001b[1;32mc:\\Users\\Bruce\\AppData\\Local\\Programs\\Python\\Python310\\lib\\site-packages\\pandas\\io\\excel\\_xlsxwriter.py:191\u001b[0m, in \u001b[0;36mXlsxWriter.__init__\u001b[1;34m(self, path, engine, date_format, datetime_format, mode, storage_options, if_sheet_exists, engine_kwargs, **kwargs)\u001b[0m\n\u001b[0;32m    188\u001b[0m \u001b[39mif\u001b[39;00m mode \u001b[39m==\u001b[39m \u001b[39m\"\u001b[39m\u001b[39ma\u001b[39m\u001b[39m\"\u001b[39m:\n\u001b[0;32m    189\u001b[0m     \u001b[39mraise\u001b[39;00m \u001b[39mValueError\u001b[39;00m(\u001b[39m\"\u001b[39m\u001b[39mAppend mode is not supported with xlsxwriter!\u001b[39m\u001b[39m\"\u001b[39m)\n\u001b[1;32m--> 191\u001b[0m \u001b[39msuper\u001b[39;49m()\u001b[39m.\u001b[39;49m\u001b[39m__init__\u001b[39;49m(\n\u001b[0;32m    192\u001b[0m     path,\n\u001b[0;32m    193\u001b[0m     engine\u001b[39m=\u001b[39;49mengine,\n\u001b[0;32m    194\u001b[0m     date_format\u001b[39m=\u001b[39;49mdate_format,\n\u001b[0;32m    195\u001b[0m     datetime_format\u001b[39m=\u001b[39;49mdatetime_format,\n\u001b[0;32m    196\u001b[0m     mode\u001b[39m=\u001b[39;49mmode,\n\u001b[0;32m    197\u001b[0m     storage_options\u001b[39m=\u001b[39;49mstorage_options,\n\u001b[0;32m    198\u001b[0m     if_sheet_exists\u001b[39m=\u001b[39;49mif_sheet_exists,\n\u001b[0;32m    199\u001b[0m     engine_kwargs\u001b[39m=\u001b[39;49mengine_kwargs,\n\u001b[0;32m    200\u001b[0m )\n\u001b[0;32m    202\u001b[0m \u001b[39mself\u001b[39m\u001b[39m.\u001b[39mbook \u001b[39m=\u001b[39m Workbook(\u001b[39mself\u001b[39m\u001b[39m.\u001b[39mhandles\u001b[39m.\u001b[39mhandle, \u001b[39m*\u001b[39m\u001b[39m*\u001b[39mengine_kwargs)\n",
      "File \u001b[1;32mc:\\Users\\Bruce\\AppData\\Local\\Programs\\Python\\Python310\\lib\\site-packages\\pandas\\io\\excel\\_base.py:1106\u001b[0m, in \u001b[0;36mExcelWriter.__init__\u001b[1;34m(self, path, engine, date_format, datetime_format, mode, storage_options, if_sheet_exists, engine_kwargs, **kwargs)\u001b[0m\n\u001b[0;32m   1102\u001b[0m \u001b[39mself\u001b[39m\u001b[39m.\u001b[39mhandles \u001b[39m=\u001b[39m IOHandles(\n\u001b[0;32m   1103\u001b[0m     cast(IO[\u001b[39mbytes\u001b[39m], path), compression\u001b[39m=\u001b[39m{\u001b[39m\"\u001b[39m\u001b[39mcompression\u001b[39m\u001b[39m\"\u001b[39m: \u001b[39mNone\u001b[39;00m}\n\u001b[0;32m   1104\u001b[0m )\n\u001b[0;32m   1105\u001b[0m \u001b[39mif\u001b[39;00m \u001b[39mnot\u001b[39;00m \u001b[39misinstance\u001b[39m(path, ExcelWriter):\n\u001b[1;32m-> 1106\u001b[0m     \u001b[39mself\u001b[39m\u001b[39m.\u001b[39mhandles \u001b[39m=\u001b[39m get_handle(\n\u001b[0;32m   1107\u001b[0m         path, mode, storage_options\u001b[39m=\u001b[39;49mstorage_options, is_text\u001b[39m=\u001b[39;49m\u001b[39mFalse\u001b[39;49;00m\n\u001b[0;32m   1108\u001b[0m     )\n\u001b[0;32m   1109\u001b[0m \u001b[39mself\u001b[39m\u001b[39m.\u001b[39msheets: \u001b[39mdict\u001b[39m[\u001b[39mstr\u001b[39m, Any] \u001b[39m=\u001b[39m {}\n\u001b[0;32m   1110\u001b[0m \u001b[39mself\u001b[39m\u001b[39m.\u001b[39mcur_sheet \u001b[39m=\u001b[39m \u001b[39mNone\u001b[39;00m\n",
      "File \u001b[1;32mc:\\Users\\Bruce\\AppData\\Local\\Programs\\Python\\Python310\\lib\\site-packages\\pandas\\io\\common.py:795\u001b[0m, in \u001b[0;36mget_handle\u001b[1;34m(path_or_buf, mode, encoding, compression, memory_map, is_text, errors, storage_options)\u001b[0m\n\u001b[0;32m    786\u001b[0m         handle \u001b[39m=\u001b[39m \u001b[39mopen\u001b[39m(\n\u001b[0;32m    787\u001b[0m             handle,\n\u001b[0;32m    788\u001b[0m             ioargs\u001b[39m.\u001b[39mmode,\n\u001b[1;32m   (...)\u001b[0m\n\u001b[0;32m    791\u001b[0m             newline\u001b[39m=\u001b[39m\u001b[39m\"\u001b[39m\u001b[39m\"\u001b[39m,\n\u001b[0;32m    792\u001b[0m         )\n\u001b[0;32m    793\u001b[0m     \u001b[39melse\u001b[39;00m:\n\u001b[0;32m    794\u001b[0m         \u001b[39m# Binary mode\u001b[39;00m\n\u001b[1;32m--> 795\u001b[0m         handle \u001b[39m=\u001b[39m \u001b[39mopen\u001b[39;49m(handle, ioargs\u001b[39m.\u001b[39;49mmode)\n\u001b[0;32m    796\u001b[0m     handles\u001b[39m.\u001b[39mappend(handle)\n\u001b[0;32m    798\u001b[0m \u001b[39m# Convert BytesIO or file objects passed with an encoding\u001b[39;00m\n",
      "\u001b[1;31mPermissionError\u001b[0m: [Errno 13] Permission denied: 'C:\\\\Users\\\\Bruce\\\\Desktop\\\\ARTICULOS\\\\ARTICULO PUCP\\\\RADON\\\\LIMPIEZA_CUSCO\\\\TC\\\\PERIODO_1\\\\EXCEL\\\\1_89.xlsx'"
     ]
    }
   ],
   "source": [
    "#Con la primera fila como número\n",
    "import pandas as pd\n",
    "import os\n",
    "\n",
    "# Ruta de la carpeta de entrada\n",
    "input_folder = r'C:\\Users\\Bruce\\Desktop\\ARTICULOS\\ARTICULO PUCP\\RADON\\Lectura-RR-Cusco\\TC\\TXT\\PERIODO_1'\n",
    "\n",
    "# Ruta de la carpeta de salida para los archivos Excel\n",
    "output_folder = r'C:\\Users\\Bruce\\Desktop\\ARTICULOS\\ARTICULO PUCP\\RADON\\LIMPIEZA_CUSCO\\TC\\PERIODO_1\\EXCEL'\n",
    "\n",
    "# Verificar si la carpeta de salida existe, si no, crearla\n",
    "if not os.path.exists(output_folder):\n",
    "    os.makedirs(output_folder)\n",
    "\n",
    "# Listar archivos en la carpeta de entrada con extensión .trk\n",
    "trk_files = [f for f in os.listdir(input_folder) if f.endswith('.trk')]\n",
    "\n",
    "# Procesar cada archivo .trk\n",
    "for trk_file in trk_files:\n",
    "    # Construir la ruta completa de entrada\n",
    "    input_path = os.path.join(input_folder, trk_file)\n",
    "    \n",
    "    # Leer las líneas del archivo .trk y convertirlas en un DataFrame\n",
    "    with open(input_path, 'r') as file:\n",
    "        # Salta las primeras 2 líneas que contienen encabezados o metadatos\n",
    "        lines = file.readlines()[2:]\n",
    "    \n",
    "    # Convertir las líneas en un DataFrame\n",
    "    df = pd.DataFrame([line.split('\\t') for line in lines], dtype='float64')\n",
    "    \n",
    "    # Construir la ruta completa de salida\n",
    "    output_path = os.path.join(output_folder, os.path.splitext(trk_file)[0] + '.xlsx')\n",
    "    \n",
    "    # Guardar el DataFrame como archivo Excel con formato numérico\n",
    "    df.to_excel(output_path, index=False, float_format='%.6f')\n",
    "\n",
    "print(\"Conversión completa.\")\n",
    "\n"
   ]
  },
  {
   "cell_type": "markdown",
   "metadata": {},
   "source": [
    "CREAMOS LOS EXCEL A PARTIR DEL.TRK Y LUEGO PASAMOS A LA PLANTILLA VACIA PARA DESPUES GUARDAR EN CARPETA"
   ]
  },
  {
   "cell_type": "code",
   "execution_count": 12,
   "metadata": {},
   "outputs": [
    {
     "name": "stdout",
     "output_type": "stream",
     "text": [
      "Conversión y aplicación de plantilla completas.\n"
     ]
    }
   ],
   "source": [
    "#solo crea las hojas xlsx del formato .trk pero no genera la plantilla a cada excel\n",
    "import pandas as pd\n",
    "import os\n",
    "\n",
    "# Ruta de la carpeta de entrada\n",
    "input_folder = r'C:\\Users\\Bruce\\Desktop\\ARTICULOS\\ARTICULO PUCP\\RADON\\Lectura-RR-Cusco\\TC\\TXT\\PERIODO_1'\n",
    "\n",
    "# Ruta de la carpeta de salida para los archivos Excel\n",
    "output_folder = r'C:\\Users\\Bruce\\Desktop\\ARTICULOS\\ARTICULO PUCP\\RADON\\LIMPIEZA_CUSCO\\TC\\PERIODO_1\\EXCEL'\n",
    "\n",
    "# Ruta de la plantilla vacía\n",
    "template_path = r'C:\\Users\\Bruce\\Desktop\\ARTICULOS\\ARTICULO PUCP\\RADON\\PLANTILLA_VACIA_SSNTDs_(100 campos)_LR115.xlsx'\n",
    "\n",
    "# Ruta de la carpeta de salida para los archivos Excel con plantilla\n",
    "output_template_folder = r'C:\\Users\\Bruce\\Desktop\\ARTICULOS\\ARTICULO PUCP\\RADON\\LIMPIEZA_CUSCO\\TC\\PERIODO_1\\EXCEL_PLANTILLA'\n",
    "\n",
    "# Verificar si la carpeta de salida para archivos con plantilla existe, si no, crearla\n",
    "if not os.path.exists(output_template_folder):\n",
    "    os.makedirs(output_template_folder)\n",
    "\n",
    "# Listar archivos en la carpeta de entrada con extensión .trk\n",
    "trk_files = [f for f in os.listdir(input_folder) if f.endswith('.trk')]\n",
    "\n",
    "# Procesar cada archivo .trk\n",
    "for trk_file in trk_files:\n",
    "    # Construir la ruta completa de entrada\n",
    "    input_path = os.path.join(input_folder, trk_file)\n",
    "    \n",
    "    # Leer el archivo .trk con pandas (ajusta según el formato real)\n",
    "    # Puedes usar pd.read_csv() o pd.read_excel() según el formato de tus datos\n",
    "    df_trk = pd.read_csv(input_path, sep='\\t', skiprows=3)  # Ajusta el separador y el número de filas a omitir según tus datos\n",
    "    \n",
    "    # Construir la ruta completa de salida\n",
    "    output_path = os.path.join(output_folder, os.path.splitext(trk_file)[0] + '.xlsx')\n",
    "    \n",
    "    # Guardar el DataFrame como archivo Excel\n",
    "    df_trk.to_excel(output_path, index=False)\n",
    "    \n",
    "    # Cargar la plantilla vacía\n",
    "    df_template = pd.read_excel(template_path, sheet_name='Data')\n",
    "    \n",
    "    # Copiar las primeras siete columnas del DataFrame del archivo .trk al DataFrame de la plantilla\n",
    "    df_template.iloc[:, :7] = df_trk.iloc[:, :7]\n",
    "    \n",
    "    # Construir la ruta completa de salida para el archivo con plantilla\n",
    "    output_template_path = os.path.join(output_template_folder, os.path.splitext(trk_file)[0] + '_plantilla.xlsx')\n",
    "    \n",
    "    # Guardar el DataFrame con la plantilla como archivo Excel\n",
    "    df_template.to_excel(output_template_path, index=False)\n",
    "\n",
    "print(\"Conversión y aplicación de plantilla completas.\")\n"
   ]
  },
  {
   "cell_type": "code",
   "execution_count": 15,
   "metadata": {},
   "outputs": [],
   "source": [
    "#Lee un archivo excel según la plantilla y la guarda en una carpeta\n",
    "import pandas as pd\n",
    "from openpyxl import load_workbook\n",
    "\n",
    "# Rutas de los archivos\n",
    "ruta_excel_datos = r\"C:\\Users\\Bruce\\Desktop\\ARTICULOS\\ARTICULO PUCP\\RADON\\LIMPIEZA_CUSCO\\TC\\PERIODO_1\\EXCEL\\1_89.xlsx\"\n",
    "ruta_plantilla = r\"C:\\Users\\Bruce\\Desktop\\ARTICULOS\\ARTICULO PUCP\\RADON\\PLANTILLA_VACIA_SSNTDs_(100 campos)_LR115.xlsx\"\n",
    "ruta_destino = r\"C:\\Users\\Bruce\\Desktop\\ARTICULOS\\ARTICULO PUCP\\RADON\\LIMPIEZA_CUSCO\\TC\\PERIODO_1\\EXCEL_PLANTILLA\\result.xlsx\"\n",
    "\n",
    "# Cargar datos del archivo Excel\n",
    "df_datos = pd.read_excel(ruta_excel_datos, skiprows=1)\n",
    "\n",
    "# Cargar la plantilla\n",
    "plantilla = load_workbook(ruta_plantilla)\n",
    "hoja_data = plantilla[\"Data\"]\n",
    "\n",
    "# Tomar los primeros 7 datos y pegarlos en las primeras 7 columnas de la hoja \"Data\"\n",
    "for i, fila in enumerate(df_datos.values):\n",
    "    for j, valor in enumerate(fila[:7]):\n",
    "        hoja_data.cell(row=i + 1, column=j + 1, value=valor)\n",
    "\n",
    "# Guardar la plantilla modificada\n",
    "plantilla.save(ruta_destino)\n"
   ]
  },
  {
   "cell_type": "markdown",
   "metadata": {},
   "source": [
    "CREAR PLANTILLA A PARTIR DE EXCEL Y GUARDARLOS EN UNA CARPETA"
   ]
  },
  {
   "cell_type": "code",
   "execution_count": 16,
   "metadata": {},
   "outputs": [],
   "source": [
    "#CREA CARPETA CON TODAS LAS PLANTILLAS DE LOS EXCEL QUE SELECCIONAMOS\n",
    "import os\n",
    "\n",
    "# Ruta de la carpeta que contiene los archivos Excel\n",
    "carpeta_excel = r\"C:\\Users\\Bruce\\Desktop\\ARTICULOS\\ARTICULO PUCP\\RADON\\LIMPIEZA_CUSCO\\TC\\PERIODO_1\\EXCEL\"\n",
    "\n",
    "# Ruta de la carpeta donde se guardarán los archivos procesados\n",
    "carpeta_destino = r\"C:\\Users\\Bruce\\Desktop\\ARTICULOS\\ARTICULO PUCP\\RADON\\LIMPIEZA_CUSCO\\TC\\PERIODO_1\\EXCEL_PLANTILLA\"\n",
    "\n",
    "# Ruta de la plantilla\n",
    "ruta_plantilla = r\"C:\\Users\\Bruce\\Desktop\\ARTICULOS\\ARTICULO PUCP\\RADON\\PLANTILLA_VACIA_SSNTDs_(100 campos)_LR115.xlsx\"\n",
    "\n",
    "# Procesar cada archivo en la carpeta\n",
    "for nombre_archivo in os.listdir(carpeta_excel):\n",
    "    ruta_excel_actual = os.path.join(carpeta_excel, nombre_archivo)\n",
    "\n",
    "    # Cargar datos del archivo Excel\n",
    "    df_datos = pd.read_excel(ruta_excel_actual, skiprows=1)\n",
    "\n",
    "    # Cargar la plantilla\n",
    "    plantilla = load_workbook(ruta_plantilla)\n",
    "    hoja_data = plantilla[\"Data\"]\n",
    "\n",
    "    # Tomar los primeros 7 datos y pegarlos en las primeras 7 columnas de la hoja \"Data\"\n",
    "    for i, fila in enumerate(df_datos.values):\n",
    "        for j, valor in enumerate(fila[:7]):\n",
    "            hoja_data.cell(row=i + 1, column=j + 1, value=valor)\n",
    "\n",
    "    # Guardar la plantilla modificada con el mismo nombre del archivo original\n",
    "    nombre_archivo_sin_extension, extension = os.path.splitext(nombre_archivo)\n",
    "    nombre_resultado = f\"{nombre_archivo_sin_extension}_result{extension}\"\n",
    "    ruta_destino_actual = os.path.join(carpeta_destino, nombre_resultado)\n",
    "    plantilla.save(ruta_destino_actual)\n"
   ]
  },
  {
   "cell_type": "markdown",
   "metadata": {},
   "source": [
    "SACAR DE CADA PLANTILLA LA FILA 2, LAS SEIS PRIMERAS COLUMNAS Y GUARDARLO EN LA PLANTILLA DE LR115"
   ]
  },
  {
   "cell_type": "code",
   "execution_count": 17,
   "metadata": {},
   "outputs": [
    {
     "name": "stdout",
     "output_type": "stream",
     "text": [
      "Se ha creado el nuevo archivo en: C:\\Users\\Bruce\\Desktop\\ARTICULOS\\ARTICULO PUCP\\RADON\\LIMPIEZA_CUSCO\\TC\\PERIODO_1\\EXCEL_LR\\nuevo_excel_lr.xlsx\n"
     ]
    }
   ],
   "source": [
    "#puede guardar los valores de la segunda hoja de la plantilla en la plnatilla final\n",
    "import xlwings as xw\n",
    "\n",
    "# Rutas de los archivos\n",
    "ruta_excel_origen = r\"C:\\Users\\Bruce\\Desktop\\ARTICULOS\\ARTICULO PUCP\\RADON\\LIMPIEZA_CUSCO\\TC\\PERIODO_1\\EXCEL_PLANTILLA\\1_89_result.xlsx\"\n",
    "ruta_excel_destino = r\"C:\\Users\\Bruce\\Desktop\\ARTICULOS\\ARTICULO PUCP\\RADON\\Plantilla_vacia_Twin_Chamber_y_G2.xlsx\"\n",
    "ruta_carpeta_destino = r\"C:\\Users\\Bruce\\Desktop\\ARTICULOS\\ARTICULO PUCP\\RADON\\LIMPIEZA_CUSCO\\TC\\PERIODO_1\\EXCEL_LR\"\n",
    "\n",
    "# Abre el libro de origen y la hoja\n",
    "libro_origen = xw.Book(ruta_excel_origen)\n",
    "hoja_origen = libro_origen.sheets['EvaluaciónFinal']\n",
    "\n",
    "# Obtiene los valores de la fila 2 en las 7 primeras columnas\n",
    "valores_origen = hoja_origen.range('A2:G2').value\n",
    "\n",
    "# Cierra el libro de origen\n",
    "libro_origen.close()\n",
    "\n",
    "# Abre el libro de destino y la hoja\n",
    "libro_destino = xw.Book(ruta_excel_destino)\n",
    "hoja_destino = libro_destino.sheets['Lectura']\n",
    "\n",
    "# Pega los valores en la fila 3 a partir de la columna 12\n",
    "hoja_destino.range('L3').value = valores_origen\n",
    "\n",
    "# Guarda el nuevo libro en la carpeta de destino\n",
    "nombre_nuevo_excel = \"nuevo_excel_lr.xlsx\"\n",
    "ruta_nuevo_excel = f\"{ruta_carpeta_destino}\\\\{nombre_nuevo_excel}\"\n",
    "libro_destino.save(ruta_nuevo_excel)\n",
    "libro_destino.close()\n",
    "\n",
    "print(f\"Se ha creado el nuevo archivo en: {ruta_nuevo_excel}\")\n"
   ]
  },
  {
   "cell_type": "code",
   "execution_count": 21,
   "metadata": {},
   "outputs": [
    {
     "name": "stdout",
     "output_type": "stream",
     "text": [
      "Se ha creado el nuevo archivo en: C:\\Users\\Bruce\\Desktop\\ARTICULOS\\ARTICULO PUCP\\RADON\\LIMPIEZA_CUSCO\\TC\\PERIODO_1\\EXCEL_LR\\nuevo_excel_lr.xlsx\n"
     ]
    }
   ],
   "source": [
    "#Guarda los valores de la segunda hoja de la plantilla en la plantilla final en el lugar que debe. (FINAL PARA UN SOLO EXCEL)\n",
    "import xlwings as xw\n",
    "\n",
    "# Rutas de los archivos\n",
    "ruta_excel_origen = r\"C:\\Users\\Bruce\\Desktop\\ARTICULOS\\ARTICULO PUCP\\RADON\\LIMPIEZA_CUSCO\\TC\\PERIODO_1\\EXCEL_PLANTILLA\\1_89_result.xlsx\"\n",
    "ruta_excel_destino = r\"C:\\Users\\Bruce\\Desktop\\ARTICULOS\\ARTICULO PUCP\\RADON\\Plantilla_vacia_Twin_Chamber_y_G2.xlsx\"\n",
    "ruta_carpeta_destino = r\"C:\\Users\\Bruce\\Desktop\\ARTICULOS\\ARTICULO PUCP\\RADON\\LIMPIEZA_CUSCO\\TC\\PERIODO_1\\EXCEL_LR\"\n",
    "\n",
    "# Inicia una instancia de Excel en segundo plano\n",
    "app = xw.App(visible=False)\n",
    "\n",
    "# Abre el libro de origen y la hoja\n",
    "libro_origen = app.books.open(ruta_excel_origen)\n",
    "hoja_origen = libro_origen.sheets['EvaluaciónFinal']\n",
    "\n",
    "# Obtiene los valores de la fila 2 en las 7 primeras columnas\n",
    "valores_origen = hoja_origen.range('A2:G2').value\n",
    "\n",
    "# Cierra el libro de origen\n",
    "libro_origen.close()\n",
    "\n",
    "# Abre el libro de destino y la hoja\n",
    "libro_destino = app.books.open(ruta_excel_destino)\n",
    "hoja_destino = libro_destino.sheets['Lectura']\n",
    "\n",
    "# Pega los valores en la fila 3 a partir de la columna 12\n",
    "hoja_destino.range('K3').value = valores_origen\n",
    "\n",
    "# Agrega el nombre del archivo de origen en la celda T3\n",
    "hoja_destino.range('U3').value = f\"Origen: {ruta_excel_origen}\"\n",
    "\n",
    "# Guarda el nuevo libro en la carpeta de destino\n",
    "nombre_nuevo_excel = \"nuevo_excel_lr.xlsx\"\n",
    "ruta_nuevo_excel = f\"{ruta_carpeta_destino}\\\\{nombre_nuevo_excel}\"\n",
    "libro_destino.save(ruta_nuevo_excel)\n",
    "libro_destino.close()\n",
    "\n",
    "# Cierra la instancia de Excel\n",
    "app.quit()\n",
    "\n",
    "print(f\"Se ha creado el nuevo archivo en: {ruta_nuevo_excel}\")\n",
    "\n"
   ]
  },
  {
   "cell_type": "markdown",
   "metadata": {},
   "source": [
    "SACAR DE CADA PLANTILLA LA FILA 2, LAS SEIS PRIMERAS COLUMNAS Y GUARDARLO EN LA PLANTILLA DE LR115 --- PARA TODOS LOS EXCEL PLANTILLA DE UNA CARPETA"
   ]
  },
  {
   "cell_type": "code",
   "execution_count": 25,
   "metadata": {},
   "outputs": [
    {
     "name": "stdout",
     "output_type": "stream",
     "text": [
      "Se ha creado el nuevo archivo en: C:\\Users\\Bruce\\Desktop\\ARTICULOS\\ARTICULO PUCP\\RADON\\LIMPIEZA_CUSCO\\TC\\PERIODO_1\\EXCEL_LR\\nuevo_excel_lr.xlsx\n"
     ]
    }
   ],
   "source": [
    "#GENERA LOS DATOS EN UN EXCEL DE TODAS LAS PLANTILLAS PERO NO EN LA PLANTILLA FINAL (TOMAR EN CUENTA)\n",
    "import os\n",
    "import xlwings as xw\n",
    "\n",
    "# Carpeta de origen\n",
    "carpeta_origen = r\"C:\\Users\\Bruce\\Desktop\\ARTICULOS\\ARTICULO PUCP\\RADON\\LIMPIEZA_CUSCO\\TC\\PERIODO_1\\EXCEL_PLANTILLA\"\n",
    "# Ruta del archivo de destino\n",
    "ruta_excel_destino = r\"C:\\Users\\Bruce\\Desktop\\ARTICULOS\\ARTICULO PUCP\\RADON\\Plantilla_vacia_Twin_Chamber_y_G2.xlsx\"\n",
    "# Carpeta de destino\n",
    "ruta_carpeta_destino = r\"C:\\Users\\Bruce\\Desktop\\ARTICULOS\\ARTICULO PUCP\\RADON\\LIMPIEZA_CUSCO\\TC\\PERIODO_1\\EXCEL_LR\"\n",
    "\n",
    "# Inicia una instancia de Excel en segundo plano\n",
    "app = xw.App(visible=False)\n",
    "\n",
    "# Crea un nuevo libro de destino\n",
    "libro_destino = app.books.add()\n",
    "hoja_destino = libro_destino.sheets[0]\n",
    "\n",
    "# Inicializa la fila de destino\n",
    "fila_destino = 3  # Puedes ajustarla según sea necesario\n",
    "\n",
    "# Itera sobre los archivos en la carpeta de origen\n",
    "for nombre_archivo in os.listdir(carpeta_origen):\n",
    "    if nombre_archivo.endswith(\".xlsx\"):\n",
    "        ruta_excel_origen = os.path.join(carpeta_origen, nombre_archivo)\n",
    "\n",
    "        # Abre el libro de origen y la hoja\n",
    "        libro_origen = app.books.open(ruta_excel_origen)\n",
    "        hoja_origen = libro_origen.sheets[1]  # Segunda hoja\n",
    "\n",
    "        # Obtiene los valores de la fila 2 en las 7 primeras columnas\n",
    "        valores_origen = hoja_origen.range('A2:G2').value\n",
    "\n",
    "        # Cierra el libro de origen\n",
    "        libro_origen.close()\n",
    "\n",
    "        # Pega los valores en la fila de destino a partir de la columna 12 en la hoja de destino\n",
    "        hoja_destino.range(f'K{fila_destino}').value = valores_origen\n",
    "\n",
    "        # Agrega el nombre del archivo de origen en la columna U\n",
    "        hoja_destino.range(f'U{fila_destino}').value = f\"Origen: {ruta_excel_origen}\"\n",
    "\n",
    "        # Incrementa la fila de destino\n",
    "        fila_destino += 1\n",
    "\n",
    "# Guarda el nuevo libro en la carpeta de destino\n",
    "nombre_nuevo_excel = \"nuevo_excel_lr.xlsx\"\n",
    "ruta_nuevo_excel = os.path.join(ruta_carpeta_destino, nombre_nuevo_excel)\n",
    "libro_destino.save(ruta_nuevo_excel)\n",
    "libro_destino.close()\n",
    "\n",
    "# Cierra la instancia de Excel\n",
    "app.quit()\n",
    "\n",
    "print(f\"Se ha creado el nuevo archivo en: {ruta_nuevo_excel}\")\n"
   ]
  }
 ],
 "metadata": {
  "kernelspec": {
   "display_name": "Python 3",
   "language": "python",
   "name": "python3"
  },
  "language_info": {
   "codemirror_mode": {
    "name": "ipython",
    "version": 3
   },
   "file_extension": ".py",
   "mimetype": "text/x-python",
   "name": "python",
   "nbconvert_exporter": "python",
   "pygments_lexer": "ipython3",
   "version": "3.10.9"
  }
 },
 "nbformat": 4,
 "nbformat_minor": 2
}
